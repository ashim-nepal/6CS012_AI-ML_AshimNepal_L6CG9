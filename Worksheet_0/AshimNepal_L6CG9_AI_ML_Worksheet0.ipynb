{
  "nbformat": 4,
  "nbformat_minor": 0,
  "metadata": {
    "colab": {
      "provenance": []
    },
    "kernelspec": {
      "name": "python3",
      "display_name": "Python 3"
    },
    "language_info": {
      "name": "python"
    }
  },
  "cells": [
    {
      "cell_type": "markdown",
      "source": [
        "# Section I- Python"
      ],
      "metadata": {
        "id": "wx5VSkAqyLaG"
      }
    },
    {
      "cell_type": "markdown",
      "source": [
        "## Task-1"
      ],
      "metadata": {
        "id": "QSm1RLizjLBt"
      }
    },
    {
      "cell_type": "code",
      "execution_count": 1,
      "metadata": {
        "id": "ZYOybnO7yH4D"
      },
      "outputs": [],
      "source": [
        "# Create a Python program that converts between different units of measurement.\n",
        "\n",
        "\n",
        "# Functions to convert units\n",
        "def length_converter(val, unit):\n",
        "  \"\"\"\n",
        "  Convert length into feet or meter\n",
        "\n",
        "  Parameters: val is any numeric value to be converted. (float) and unit is the string denoting unit type (string).\n",
        "  Returns: Result value(float)\n",
        "\n",
        "  \"\"\"\n",
        "\n",
        "  if unit == \"meter\":\n",
        "    return val * 3.280\n",
        "  elif unit == \"feet\":\n",
        "    return val / 3.280\n",
        "  else:\n",
        "    return ValueError(\"Invalid Unit entered!\")\n",
        "\n",
        "def weight_converter(val, unit):\n",
        "  \"\"\"\n",
        "  Convert weight into pounds or kg\n",
        "\n",
        "  Parameters: val is any numeric value to be converted. (float) and unit is the string denoting unit type (string).\n",
        "  Returns: Result value(float)\n",
        "\n",
        "  \"\"\"\n",
        "\n",
        "  if unit == \"kg\":\n",
        "    return val / 2.205\n",
        "  elif unit == \"pounds\":\n",
        "    return val * 2.205\n",
        "  else:\n",
        "    return ValueError(\"Invalid Unit entered!\")\n",
        "\n",
        "\n",
        "def volume_converter(val, unit):\n",
        "  \"\"\"\n",
        "  Convert volume into gallons or liters\n",
        "\n",
        "  Parameters: val is any numeric value to be converted. (float) and unit is the string denoting unit type (string).\n",
        "  Returns: Result value(float)\n",
        "\n",
        "  \"\"\"\n",
        "\n",
        "  if unit == \"gallons\":\n",
        "    return val * 0.265\n",
        "  elif unit == \"liters\":\n",
        "    return val / 0.265\n",
        "  else:\n",
        "    return ValueError(\"Invalid Unit entered!\")\n",
        "\n",
        "\n"
      ]
    },
    {
      "cell_type": "code",
      "source": [
        "# Main function for the task\n",
        "\n",
        "def main():\n",
        "  print(\"\"\"\n",
        "  Unit Converter\n",
        "  Choose a conversion type:\n",
        "  1. Length (meters <==> feet)\n",
        "  2. Weight (kilograms <==> pounds)\n",
        "  3. Volume (liters <==> gallons)\n",
        "  \"\"\")\n",
        "\n",
        "  try:\n",
        "    choice = int(input(\"Enter your choice for conversion: \"))\n",
        "\n",
        "    if choice == 1:\n",
        "      unit = input(\"Enter the unit of length you want to convert to (meters/feet): \")\n",
        "      val = float(input(f\"Enter the value to be converted to {unit}: \"))\n",
        "      result = length_converter(val, unit)\n",
        "      print(f\"The converted value of length is {result} {unit}.\")\n",
        "\n",
        "    elif choice == 2:\n",
        "      unit = input(\"Enter the unit of weight you want to convert to (kg/pounds): \")\n",
        "      val = float(input(f\"Enter the value to be converted to {unit}: \"))\n",
        "      result = weight_converter(val, unit)\n",
        "      print(f\"The converted value is {result} {unit}.\")\n",
        "\n",
        "    elif choice == 3:\n",
        "      unit = input(\"Enter the unit of volume you want to convert to (liters/gallons): \")\n",
        "      val = float(input(f\"Enter the value to be converted to {unit}: \"))\n",
        "      result = volume_converter(val, unit)\n",
        "      print(f\"The converted value is {result} {unit}.\")\n",
        "\n",
        "    else:\n",
        "      print(\"Invalid choice entered!\")\n",
        "      return\n",
        "\n",
        "  except ValueError as e:\n",
        "    print(f\"Error {e}\")\n",
        "\n",
        "  except Exception as e:\n",
        "    print(f\"Error {e}\")\n",
        "\n",
        "if __name__ == \"__main__\":\n",
        "  main()\n"
      ],
      "metadata": {
        "colab": {
          "base_uri": "https://localhost:8080/"
        },
        "id": "t9OSrjz_lo9V",
        "outputId": "fd90bace-18bc-4191-8261-76decacb389b"
      },
      "execution_count": 2,
      "outputs": [
        {
          "output_type": "stream",
          "name": "stdout",
          "text": [
            "\n",
            "  Unit Converter\n",
            "  Choose a conversion type:\n",
            "  1. Length (meters <==> feet)\n",
            "  2. Weight (kilograms <==> pounds)\n",
            "  3. Volume (liters <==> gallons)\n",
            "  \n",
            "Enter your choice for conversion: 3\n",
            "Enter the unit of volume you want to convert to (liters/gallons): gallons\n",
            "Enter the value to be converted to gallons: 18\n",
            "The converted value is 4.7700000000000005 gallons.\n"
          ]
        }
      ]
    },
    {
      "cell_type": "markdown",
      "source": [
        "## Task 2"
      ],
      "metadata": {
        "id": "lsv_1Sa9vDMV"
      }
    },
    {
      "cell_type": "code",
      "source": [
        "# Create a Python program that performs various mathematical operations on a list of numbers.\n",
        "\n",
        "# Functions to perform operations of number list\n",
        "def calculate_sum(numbers):\n",
        "  \"\"\"\n",
        "  Calculate the suom of the numbers in list\n",
        "\n",
        "  PArameter is list of numbers(float or int)\n",
        "\n",
        "  Returns sum of numbers(float)\n",
        "  \"\"\"\n",
        "\n",
        "  return sum(numbers)\n",
        "\n",
        "\n",
        "def calculate_average(numbers):\n",
        "  \"\"\"\n",
        "  Calculate the average of the numbers in list\n",
        "\n",
        "  Parameter is list of numbers(float or int)\n",
        "\n",
        "  Returns average of numbers(float)\n",
        "  \"\"\"\n",
        "\n",
        "  return sum(numbers) / len(numbers)\n",
        "\n",
        "def get_maximum(numbers):\n",
        "  \"\"\"\n",
        "  Get the maximum number in the list\n",
        "\n",
        "  Parameter is list of numbers(float or int)\n",
        "\n",
        "  Returns maximum number(float)\n",
        "  \"\"\"\n",
        "\n",
        "  return max(numbers)\n",
        "\n",
        "\n",
        "def get_minimum(numbers):\n",
        "  \"\"\"\n",
        "  Get the minimum number in the list\n",
        "\n",
        "  Parameter is list of numbers(float o r int)\n",
        "\n",
        "  Returns minimum number(float)\n",
        "  \"\"\"\n",
        "\n",
        "  return min(numbers)"
      ],
      "metadata": {
        "id": "7S2S4ZjLvCjN"
      },
      "execution_count": 3,
      "outputs": []
    },
    {
      "cell_type": "code",
      "source": [
        "# Main function for task 2\n",
        "def main():\n",
        "  print(\"\"\"\n",
        "  MAthematical Operations in list\n",
        "  Choose an operation:\n",
        "  1. Sum\n",
        "  2. Average\n",
        "  3. Maximum\n",
        "  4. Minimum\n",
        "  \"\"\")\n",
        "\n",
        "  try:\n",
        "    choice = int(input(\"Enter your choice: \"))\n",
        "\n",
        "    numbers_list = input(\"Enter the list of numbers separated by spaces: \").split()\n",
        "    numbers_list = [float(num) for num in numbers_list]\n",
        "\n",
        "    if choice == 1:\n",
        "      result = calculate_sum(numbers_list)\n",
        "      operation = \"Sum\"\n",
        "\n",
        "    elif choice == 2:\n",
        "      result = calculate_average(numbers_list)\n",
        "      operation = \"Average\"\n",
        "\n",
        "    elif choice == 3:\n",
        "      result = get_maximum(numbers_list)\n",
        "      operation = \"Maximum\"\n",
        "\n",
        "    elif choice == 4:\n",
        "      result = get_minimum(numbers_list)\n",
        "      operation = \"Minimum\"\n",
        "\n",
        "    else:\n",
        "      print(\"Invalid choice entered!\")\n",
        "      return\n",
        "\n",
        "    print(f\"The {operation} of the numbers in provided list is {result}.\")\n",
        "\n",
        "  except ValueError as e:\n",
        "    print(f\"Error {e}\")\n",
        "\n",
        "  except Exception as e:\n",
        "    print(f\"Error {e}\")\n",
        "\n",
        "  finally:\n",
        "    print(\"Task Ended for Mathematical operations in list!\")\n",
        "\n",
        "if __name__ == \"__main__\":\n",
        "  main()\n"
      ],
      "metadata": {
        "colab": {
          "base_uri": "https://localhost:8080/"
        },
        "id": "wxLeBN_hxFzT",
        "outputId": "ced8ace2-6ff5-4c65-ab64-1cab5e1ad40d"
      },
      "execution_count": 4,
      "outputs": [
        {
          "output_type": "stream",
          "name": "stdout",
          "text": [
            "\n",
            "  MAthematical Operations in list\n",
            "  Choose an operation:\n",
            "  1. Sum\n",
            "  2. Average\n",
            "  3. Maximum\n",
            "  4. Minimum\n",
            "  \n",
            "Enter your choice: 1\n",
            "Enter the list of numbers separated by spaces: 5 9 7 5\n",
            "The Sum of the numbers in provided list is 26.0.\n",
            "Task Ended for Mathematical operations in list!\n"
          ]
        }
      ]
    },
    {
      "cell_type": "markdown",
      "source": [
        "### Task 3 - Exercises on list manipulation\n",
        "\n"
      ],
      "metadata": {
        "id": "OOpQuIlpy0K-"
      }
    },
    {
      "cell_type": "markdown",
      "source": [
        "#### a. Write a Python function that extracts every other element from a list, starting from the first element.\n",
        "• Requirements:\n",
        "\n",
        "– Define a function extract every other(lst) that takes a list lst as input and returns a\n",
        "new list containing every other element from the original list.\n",
        "\n",
        "– Example: For the input [1, 2, 3, 4, 5, 6], the output should be [1, 3, 5]."
      ],
      "metadata": {
        "id": "IW8-HyJhzY04"
      }
    },
    {
      "cell_type": "code",
      "source": [
        "def extract_every_other(lst):\n",
        "  return lst[::2]\n",
        "\n",
        "lst = [1, 2, 3, 4, 5, 6]\n",
        "result = extract_every_other(lst)\n",
        "print(f\"{lst} List after extracting every other element is {result}.\")"
      ],
      "metadata": {
        "colab": {
          "base_uri": "https://localhost:8080/"
        },
        "id": "BIVoG_6By6Gu",
        "outputId": "4f1aaccd-da33-4130-cbe4-c718a251bdf0"
      },
      "execution_count": 5,
      "outputs": [
        {
          "output_type": "stream",
          "name": "stdout",
          "text": [
            "[1, 2, 3, 4, 5, 6] List after extracting every other element is [1, 3, 5].\n"
          ]
        }
      ]
    },
    {
      "cell_type": "markdown",
      "source": [
        "#### b. Slice a Sublist:\n",
        "Write a Python function that returns a sublist from a given list, starting from a specified index and\n",
        "ending at another specified index.\n",
        "\n",
        "• Requirements:\n",
        "\n",
        "– Define a function get sublist(lst, start, end) that takes a list lst, a starting index\n",
        "start, and an ending index end as input and returns the sublist from start to end (inclusive).\n",
        "\n",
        "– Example: For the input [1, 2, 3, 4, 5, 6] with start=2 and end=4, the output should\n",
        "be [3, 4, 5]."
      ],
      "metadata": {
        "id": "byuTZ77u2tVR"
      }
    },
    {
      "cell_type": "code",
      "source": [
        "def get_sublist(lst, start, end):\n",
        "  return lst[start:end+1]\n",
        "\n",
        "lst = [1, 2, 3, 4, 5, 6]\n",
        "start = 2\n",
        "end = 4\n",
        "result = get_sublist(lst, start, end)\n",
        "print(f\"{lst} after getting its sublist from index {start} to {end} is {result}.\")"
      ],
      "metadata": {
        "colab": {
          "base_uri": "https://localhost:8080/"
        },
        "id": "CvqhWtMd29Pa",
        "outputId": "8ef72d59-e36d-4c51-d397-4c12bb33360e"
      },
      "execution_count": 6,
      "outputs": [
        {
          "output_type": "stream",
          "name": "stdout",
          "text": [
            "[1, 2, 3, 4, 5, 6] after getting its sublist from index 2 to 4 is [3, 4, 5].\n"
          ]
        }
      ]
    },
    {
      "cell_type": "markdown",
      "source": [
        "#### c.  Reverse a List Using Slicing:\n",
        "Write a Python function that reverses a list using slicing.\n",
        "\n",
        "• Requirements:\n",
        "\n",
        "– Define a function reverse list(lst) that takes a list lst and returns a reversed list using\n",
        "slicing.\n",
        "\n",
        "– Example: For the input [1, 2, 3, 4, 5], the output should be [5, 4, 3, 2, 1].\n"
      ],
      "metadata": {
        "id": "2jAMWs7-39lI"
      }
    },
    {
      "cell_type": "code",
      "source": [
        "def reverse_list(lst):\n",
        "  return lst[::-1]\n",
        "\n",
        "lst = [1, 2, 3, 4, 5]\n",
        "result = reverse_list(lst)\n",
        "print(f\"{lst} after reversing is {result}.\")"
      ],
      "metadata": {
        "colab": {
          "base_uri": "https://localhost:8080/"
        },
        "id": "OURObFd64DNP",
        "outputId": "274c2a7c-f21e-45b4-e3d2-201e4d0748b4"
      },
      "execution_count": 7,
      "outputs": [
        {
          "output_type": "stream",
          "name": "stdout",
          "text": [
            "[1, 2, 3, 4, 5] after reversing is [5, 4, 3, 2, 1].\n"
          ]
        }
      ]
    },
    {
      "cell_type": "markdown",
      "source": [
        "#### d. Remove the First and Last Elements:\n",
        "Write a Python function that removes the first and last elements of a list and returns the resulting\n",
        "sublist.\n",
        "\n",
        "• Requirements:\n",
        "\n",
        "– Define a function remove first last(lst) that takes a list lst and returns a sublist without\n",
        "the first and last elements using slicing.\n",
        "\n",
        "– Example: For the input [1, 2, 3, 4, 5], the output should be [2, 3, 4]."
      ],
      "metadata": {
        "id": "SAeMVY0A4PuI"
      }
    },
    {
      "cell_type": "code",
      "source": [
        "def remove_first_last(lst):\n",
        "  return lst[1:-1]\n",
        "\n",
        "lst = [1, 2, 3, 4, 5]\n",
        "result = remove_first_last(lst)\n",
        "print(f\"{lst} after removing first and last element is {result}.\")"
      ],
      "metadata": {
        "colab": {
          "base_uri": "https://localhost:8080/"
        },
        "id": "u08D2FGh4XVy",
        "outputId": "6cfc0221-9352-4fce-c96e-20028c804218"
      },
      "execution_count": 8,
      "outputs": [
        {
          "output_type": "stream",
          "name": "stdout",
          "text": [
            "[1, 2, 3, 4, 5] after removing first and last element is [2, 3, 4].\n"
          ]
        }
      ]
    },
    {
      "cell_type": "markdown",
      "source": [
        "#### e.  Get the First n Elements:\n",
        "Write a Python function that extracts the first n elements from a list.\n",
        "\n",
        "• Requirements:\n",
        "\n",
        "– Define a function get first n(lst, n) that takes a list lst and an integer n as input and\n",
        "returns the first n elements of the list using slicing.\n",
        "\n",
        "– Example: For the input [1, 2, 3, 4, 5] with n=3, the output should be [1, 2, 3].\n"
      ],
      "metadata": {
        "id": "iiNTtlI84nYD"
      }
    },
    {
      "cell_type": "code",
      "source": [
        "def get_first_n(lst, n):\n",
        "  return lst[:n]\n",
        "\n",
        "lst = [1, 2, 3, 4, 5]\n",
        "n = 3\n",
        "result = get_first_n(lst, n)\n",
        "print(f\"{lst} after getting first {n} elements is {result}.\")"
      ],
      "metadata": {
        "colab": {
          "base_uri": "https://localhost:8080/"
        },
        "id": "ufGRRFaW4uWc",
        "outputId": "483a01f7-7187-4831-e349-3f4115a3df87"
      },
      "execution_count": 9,
      "outputs": [
        {
          "output_type": "stream",
          "name": "stdout",
          "text": [
            "[1, 2, 3, 4, 5] after getting first 3 elements is [1, 2, 3].\n"
          ]
        }
      ]
    },
    {
      "cell_type": "markdown",
      "source": [
        "#### f. Extract Elements from the End:\n",
        "Write a Python function that extracts the last n elements of a list using slicing.\n",
        "\n",
        "• Requirements:\n",
        "\n",
        "– Define a function get last n(lst, n) that takes a list lst and an integer n as input and\n",
        "returns the last n elements of the list.\n",
        "\n",
        "– Example: For the input [1, 2, 3, 4, 5] with n=2, the output should be [4, 5].\n"
      ],
      "metadata": {
        "id": "QBxViPFR46wV"
      }
    },
    {
      "cell_type": "code",
      "source": [
        "def get_last_n(lst, n):\n",
        "  return lst[-n:]\n",
        "\n",
        "lst = [1, 2, 3, 4, 5]\n",
        "n = 2\n",
        "result = get_last_n(lst, n)\n",
        "print(f\"{lst} after getting last {n} elements is {result}.\")"
      ],
      "metadata": {
        "colab": {
          "base_uri": "https://localhost:8080/"
        },
        "id": "QUCSrzoD4_nO",
        "outputId": "02c3bfd2-a07c-4aca-a3c7-ace918815178"
      },
      "execution_count": 10,
      "outputs": [
        {
          "output_type": "stream",
          "name": "stdout",
          "text": [
            "[1, 2, 3, 4, 5] after getting last 2 elements is [4, 5].\n"
          ]
        }
      ]
    },
    {
      "cell_type": "markdown",
      "source": [
        "#### g. Extract Elements in Reverse Order:\n",
        "Write a Python function that extracts a list of elements in reverse order starting from the second-to-last\n",
        "element and skipping one element in between.\n",
        "\n",
        "• Requirements:\n",
        "\n",
        "– Define a function reverse skip(lst) that takes a list lst and returns a new list containing\n",
        "every second element starting from the second-to-last, moving backward.\n",
        "\n",
        "– Example: For the input [1, 2, 3, 4, 5, 6], the output should be [5, 3, 1]."
      ],
      "metadata": {
        "id": "odFsCL-L5SYY"
      }
    },
    {
      "cell_type": "code",
      "source": [
        "def reverse_skip(lst):\n",
        "  return lst[-2::-2]\n",
        "\n",
        "lst = [1, 2, 3, 4, 5, 6]\n",
        "result = reverse_skip(lst)\n",
        "print(f\"{lst} after reversing and skipping is {result}.\")"
      ],
      "metadata": {
        "colab": {
          "base_uri": "https://localhost:8080/"
        },
        "id": "ux1m4bfj5VSP",
        "outputId": "3bcb55eb-0f56-4728-b80f-0bb1b44d11c1"
      },
      "execution_count": 11,
      "outputs": [
        {
          "output_type": "stream",
          "name": "stdout",
          "text": [
            "[1, 2, 3, 4, 5, 6] after reversing and skipping is [5, 3, 1].\n"
          ]
        }
      ]
    },
    {
      "cell_type": "markdown",
      "source": [
        "### Task 4 - Exercises on nested list\n"
      ],
      "metadata": {
        "id": "iKqqt7uy59f0"
      }
    },
    {
      "cell_type": "markdown",
      "source": [
        "#### a. Flatten a Nested List:\n",
        "Write a Python function that takes a nested list and flattens it into a single list, where all the elements\n",
        "are in a single dimension.\n",
        "\n",
        "• Requirements:\n",
        "\n",
        "– Define a function flatten(lst) that takes a nested list lst and returns a flattened version\n",
        "of the list.\n",
        "\n",
        "– Example: For the input [[1, 2], [3, 4], [5]], the output should be [1, 2, 3, 4, 5]."
      ],
      "metadata": {
        "id": "LkC1dGn-6Bjt"
      }
    },
    {
      "cell_type": "code",
      "source": [
        "def flatten(lst):\n",
        "  flat_list = []\n",
        "  for item in lst:\n",
        "    if isinstance(item, list):\n",
        "      flat_list.extend(flatten(item))\n",
        "    else:\n",
        "      flat_list.append(item)\n",
        "  return flat_list\n",
        "\n",
        "\n",
        "lst = [[1, 2], [3, 4], [5]]\n",
        "result = flatten(lst)\n",
        "print(f\"{lst} after flattening is {result}.\")"
      ],
      "metadata": {
        "colab": {
          "base_uri": "https://localhost:8080/"
        },
        "id": "-Q43OxZX6G1m",
        "outputId": "07f21de2-7462-4712-9efb-82d6b55518ad"
      },
      "execution_count": 12,
      "outputs": [
        {
          "output_type": "stream",
          "name": "stdout",
          "text": [
            "[[1, 2], [3, 4], [5]] after flattening is [1, 2, 3, 4, 5].\n"
          ]
        }
      ]
    },
    {
      "cell_type": "markdown",
      "source": [
        "#### b. Accessing Nested List Elements:\n",
        "Write a Python function that extracts a specific element from a nested list given its indices.\n",
        "\n",
        "• Requirements:\n",
        "\n",
        "– Define a function access nested element(lst, indices) that takes a nested list lst and\n",
        "a list of indices indices, and returns the element at that position.\n",
        "\n",
        "– Example: For the input lst = [[1, 2, 3], [4, 5, 6], [7, 8, 9]] with indices = [1,\n",
        "2], the output should be 6."
      ],
      "metadata": {
        "id": "nbOzczWT6SHG"
      }
    },
    {
      "cell_type": "code",
      "source": [
        "def access_nested_element(lst, indices):\n",
        "  element = lst\n",
        "\n",
        "  try:\n",
        "    for index in indices:\n",
        "      element = element[index]\n",
        "\n",
        "    return element\n",
        "\n",
        "  except(IndexError, TypeError):\n",
        "    return \"Invalid Indices\"\n",
        "\n",
        "lst = [[1, 2, 3], [4, 5, 6], [7, 8, 9]]\n",
        "indices = [1, 2]\n",
        "result = access_nested_element(lst, indices)\n",
        "print(f\"{lst} accessing element at indices {indices} is {result}.\")"
      ],
      "metadata": {
        "colab": {
          "base_uri": "https://localhost:8080/"
        },
        "id": "iStFskkb6XAH",
        "outputId": "56a7601f-885c-4877-a6e4-34778bcc8db9"
      },
      "execution_count": 13,
      "outputs": [
        {
          "output_type": "stream",
          "name": "stdout",
          "text": [
            "[[1, 2, 3], [4, 5, 6], [7, 8, 9]] accessing element at indices [1, 2] is 6.\n"
          ]
        }
      ]
    },
    {
      "cell_type": "markdown",
      "source": [
        "#### c. Sum of All Elements in a Nested List:\n",
        "Write a Python function that calculates the sum of all the numbers in a nested list (regardless of depth).\n",
        "\n",
        "• Requirements:\n",
        "\n",
        "– Define a function sum nested(lst) that takes a nested list lst and returns the sum of all\n",
        "the elements.\n",
        "\n",
        "– Example: For the input [[1, 2], [3, [4, 5]], 6], the output should be 21."
      ],
      "metadata": {
        "id": "wWIa_ijK6XQP"
      }
    },
    {
      "cell_type": "code",
      "source": [
        "def sum_nested(lst):\n",
        "  return sum(flatten(lst))\n",
        "\n",
        "lst = [[1, 2], [3, [4, 5]], 6]\n",
        "result = sum_nested(lst)\n",
        "print(f\"{lst} sum of all elements is {result}.\")"
      ],
      "metadata": {
        "colab": {
          "base_uri": "https://localhost:8080/"
        },
        "id": "A4RGf8BU6bZq",
        "outputId": "84b13594-5376-48cb-b839-00543b2339ee"
      },
      "execution_count": 14,
      "outputs": [
        {
          "output_type": "stream",
          "name": "stdout",
          "text": [
            "[[1, 2], [3, [4, 5]], 6] sum of all elements is 21.\n"
          ]
        }
      ]
    },
    {
      "cell_type": "markdown",
      "source": [
        "#### d. Remove Specific Element from a Nested List:\n",
        "Write a Python function that removes all occurrences of a specific element from a nested list.\n",
        "\n",
        "• Requirements:\n",
        "\n",
        "– Define a function remove element(lst, elem) that removes elem from lst and returns the\n",
        "modified list.\n",
        "\n",
        "– Example: For the input lst = [[1, 2], [3, 2], [4, 5]] and elem = 2, the output should\n",
        "be [[1], [3], [4, 5]].\n"
      ],
      "metadata": {
        "id": "sqO-pqQo6bo2"
      }
    },
    {
      "cell_type": "code",
      "source": [
        "def remove_element(lst, elem):\n",
        "  result = []\n",
        "\n",
        "  for item in lst:\n",
        "    if isinstance(item, list):\n",
        "      result.append(remove_element(item, elem))\n",
        "    elif item != elem:\n",
        "      result.append(item)\n",
        "\n",
        "  return result\n",
        "\n",
        "lst = [[1, 2], [3, 2], [4, 5]]\n",
        "elem = 2\n",
        "result = remove_element(lst, elem)\n",
        "print(f\"{lst} after removing element {elem} is {result}.\")\n"
      ],
      "metadata": {
        "colab": {
          "base_uri": "https://localhost:8080/"
        },
        "id": "9xscGOLq6fTg",
        "outputId": "42a39d4b-652f-4222-e00e-7acde4310237"
      },
      "execution_count": 15,
      "outputs": [
        {
          "output_type": "stream",
          "name": "stdout",
          "text": [
            "[[1, 2], [3, 2], [4, 5]] after removing element 2 is [[1], [3], [4, 5]].\n"
          ]
        }
      ]
    },
    {
      "cell_type": "markdown",
      "source": [
        "#### e. Find the Maximum Element in a Nested List:\n",
        "Write a Python function that finds the maximum element in a nested list (regardless of depth).\n",
        "\n",
        "• Requirements:\n",
        "\n",
        "– Define a function find max(lst) that takes a nested list lst and returns the maximum\n",
        "element.\n",
        "\n",
        "– Example: For the input [[1, 2], [3, [4, 5]], 6], the output should be 6."
      ],
      "metadata": {
        "id": "Q9fq1Q886fvQ"
      }
    },
    {
      "cell_type": "code",
      "source": [
        "def find_max(lst):\n",
        "  return max(flatten(lst))\n",
        "\n",
        "lst = [[1, 2], [3, [4, 5]], 6]\n",
        "result = find_max(lst)\n",
        "print(f\"{lst} maximum element is {result}.\")"
      ],
      "metadata": {
        "colab": {
          "base_uri": "https://localhost:8080/"
        },
        "id": "T9xgCP3U6j7z",
        "outputId": "f2483d33-f87c-4a36-b5d1-2bedee992952"
      },
      "execution_count": 16,
      "outputs": [
        {
          "output_type": "stream",
          "name": "stdout",
          "text": [
            "[[1, 2], [3, [4, 5]], 6] maximum element is 6.\n"
          ]
        }
      ]
    },
    {
      "cell_type": "markdown",
      "source": [
        "#### f.  Count Occurrences of an Element in a Nested List:\n",
        "\n",
        "Write a Python function that counts how many times a specific element appears in a nested list.\n",
        "\n",
        "• Requirements:\n",
        "\n",
        "– Define a function count occurrences(lst, elem) that counts the occurrences of elem in\n",
        "the nested list lst.\n",
        "\n",
        "– Example: For the input lst = [[1, 2], [2, 3], [2, 4]] and elem = 2, the output should\n",
        "be 3."
      ],
      "metadata": {
        "id": "q5M13JL06kKn"
      }
    },
    {
      "cell_type": "code",
      "source": [
        "def count_occourances(lst, elem):\n",
        "  return flatten(lst).count(elem)\n",
        "\n",
        "lst = [[1, 2], [2, 3], [2, 4]]\n",
        "elem = 2\n",
        "result = count_occourances(lst, elem)\n",
        "print(f\"{lst} count of element {elem} is {result}.\")"
      ],
      "metadata": {
        "colab": {
          "base_uri": "https://localhost:8080/"
        },
        "id": "fYEnZjlp6rKS",
        "outputId": "0478c9f3-5404-4b2a-dc48-f8cde4afd0f1"
      },
      "execution_count": 17,
      "outputs": [
        {
          "output_type": "stream",
          "name": "stdout",
          "text": [
            "[[1, 2], [2, 3], [2, 4]] count of element 2 is 3.\n"
          ]
        }
      ]
    },
    {
      "cell_type": "markdown",
      "source": [
        "#### g. Flatten a List of Lists of Lists:\n",
        "Write a Python function that flattens a list of lists of lists into a single list, regardless of the depth.\n",
        "\n",
        "• Requirements:\n",
        "\n",
        "– Define a function deep flatten(lst) that takes a deeply nested list lst and returns a single\n",
        "flattened list.\n",
        "\n",
        "– Example: For the input [[[1, 2], [3, 4]], [[5, 6], [7, 8]]], the output should be\n",
        "[1, 2, 3, 4, 5, 6, 7, 8]."
      ],
      "metadata": {
        "id": "HTHjxtyh6t5o"
      }
    },
    {
      "cell_type": "code",
      "source": [
        "def deep_flatten(lst):\n",
        "  return flatten(lst)\n",
        "\n",
        "lst = [[[1, 2], [3, 4]], [[5, 6], [7, 8]]]\n",
        "result = deep_flatten(lst)\n",
        "print(f\"{lst} after deep flattening is {result}.\")"
      ],
      "metadata": {
        "colab": {
          "base_uri": "https://localhost:8080/"
        },
        "id": "TuuT-dgi6wx5",
        "outputId": "a5938c22-5873-4a3d-b321-63930eda1d80"
      },
      "execution_count": 18,
      "outputs": [
        {
          "output_type": "stream",
          "name": "stdout",
          "text": [
            "[[[1, 2], [3, 4]], [[5, 6], [7, 8]]] after deep flattening is [1, 2, 3, 4, 5, 6, 7, 8].\n"
          ]
        }
      ]
    },
    {
      "cell_type": "markdown",
      "source": [
        "#### h. Nested List Average:\n",
        "Write a Python function that calculates the average of all elements in a nested list.\n",
        "\n",
        "• Requirements:\n",
        "\n",
        "– Define a function average nested(lst) that takes a nested list lst and returns the average\n",
        "of all the elements.\n",
        "\n",
        "– Example: For the input [[1, 2], [3, 4], [5, 6]], the output should be 3.5."
      ],
      "metadata": {
        "id": "oSsY4RL56rjx"
      }
    },
    {
      "cell_type": "code",
      "source": [
        "def average_nested(lst):\n",
        "  return sum(flatten(lst)) / len(flatten(lst))\n",
        "\n",
        "\n",
        "lst = [[1, 2], [3, 4], [5, 6]]\n",
        "result = average_nested(lst)\n",
        "print(f\"{lst} average of all elements is {result}.\")"
      ],
      "metadata": {
        "colab": {
          "base_uri": "https://localhost:8080/"
        },
        "id": "ao8JaB_Q60tC",
        "outputId": "277791e2-2988-4cd7-e37f-d91809dc26cd"
      },
      "execution_count": 19,
      "outputs": [
        {
          "output_type": "stream",
          "name": "stdout",
          "text": [
            "[[1, 2], [3, 4], [5, 6]] average of all elements is 3.5.\n"
          ]
        }
      ]
    },
    {
      "cell_type": "markdown",
      "source": [
        "# Section II - Numpy"
      ],
      "metadata": {
        "id": "_GRRHcEfyP3O"
      }
    },
    {
      "cell_type": "code",
      "source": [
        "import numpy as np\n",
        "import time"
      ],
      "metadata": {
        "id": "b3ahXjOND5-7"
      },
      "execution_count": 8,
      "outputs": []
    },
    {
      "cell_type": "markdown",
      "source": [
        "## Task 1: Array Creation"
      ],
      "metadata": {
        "id": "_EBVfRO6_c3X"
      }
    },
    {
      "cell_type": "markdown",
      "source": [
        "Complete the following Tasks:\n",
        "1. Initialize an empty array with size 2X2.\n",
        "2. Initialize an all one array with size 4X2.\n",
        "3. Return a new array of given shape and type, filled with fill value.{Hint: np.full}\n",
        "4. Return a new array of zeros with same shape and type as a given array.{Hint: np.zeros like}\n",
        "5. Return a new array of ones with same shape and type as a given array.{Hint: np.ones like}\n",
        "6. For an existing list new_list = [1,2,3,4] convert to an numpy array.{Hint: np.array()}\n"
      ],
      "metadata": {
        "id": "NYdtPJvND8P6"
      }
    },
    {
      "cell_type": "code",
      "source": [
        "# 1. Initialize an empty array with size 2X2.\n",
        "emt_array = np.empty((2, 2))\n",
        "print(\"1. Empty array with size 2X2:\")\n",
        "print(emt_array,\"\\n\")\n",
        "\n",
        "\n",
        "# 2. Initialize an all one array with size 4X2.\n",
        "ones_Array = np.ones((4,2))\n",
        "print(\"2. All ones array with size 4X2:\")\n",
        "print(ones_Array, \"\\n\")\n",
        "\n",
        "\n",
        "# 3. Return a new array of given shape and type, filled with fill value.\n",
        "filled_Array = np.full((4,3), 7)\n",
        "print(\"3. Array of given shape and type, filled with fill value:\")\n",
        "print(filled_Array, \"\\n\")\n",
        "\n",
        "\n",
        "# 4. Return a new array of zeros with same shape and type as a given array.\n",
        "sample_array = np.array([[1, 5, 8], [3, 9, 2]])\n",
        "zeros_array = np.zeros_like(sample_array)\n",
        "print(\"4. Array of zeros with same shape and type as a given sample array:\")\n",
        "print(zeros_array, \"\\n\")\n",
        "\n",
        "\n",
        "# 5. Return a new array of ones with same shape and type as a given array.\n",
        "ones_array = np.ones_like(sample_array)\n",
        "print(\"5. Array of ones with same shape and type as a given sample array:\")\n",
        "print(ones_array, \"\\n\")\n",
        "\n",
        "# 6. For an existing list new_list = [1,2,3,4] convert to an numpy array.\n",
        "new_list = [1, 2, 3, 4]\n",
        "numpy_array = np.array(new_list)\n",
        "print(\"6. Numpy array of the provided new_list array:\")\n",
        "print(numpy_array, \"\\n\")\n"
      ],
      "metadata": {
        "id": "wQ3xAnxLySwt",
        "colab": {
          "base_uri": "https://localhost:8080/"
        },
        "outputId": "c6434099-cb83-4d9c-f102-d3eb6e958d9f"
      },
      "execution_count": 21,
      "outputs": [
        {
          "output_type": "stream",
          "name": "stdout",
          "text": [
            "1. Empty array with size 2X2:\n",
            "[[2.77479105e-316 0.00000000e+000]\n",
            " [4.94065646e-324             nan]] \n",
            "\n",
            "2. All ones array with size 4X2:\n",
            "[[1. 1.]\n",
            " [1. 1.]\n",
            " [1. 1.]\n",
            " [1. 1.]] \n",
            "\n",
            "3. Array of given shape and type, filled with fill value:\n",
            "[[7 7 7]\n",
            " [7 7 7]\n",
            " [7 7 7]\n",
            " [7 7 7]] \n",
            "\n",
            "4. Array of zeros with same shape and type as a given sample array:\n",
            "[[0 0 0]\n",
            " [0 0 0]] \n",
            "\n",
            "5. Array of ones with same shape and type as a given sample array:\n",
            "[[1 1 1]\n",
            " [1 1 1]] \n",
            "\n",
            "6. Numpy array of the provided new_list array:\n",
            "[1 2 3 4] \n",
            "\n"
          ]
        }
      ]
    },
    {
      "cell_type": "markdown",
      "source": [
        "## Task 2: Array Manipulation: Numerical Ranges and Array indexing"
      ],
      "metadata": {
        "id": "hYsGfKTcGxVN"
      }
    },
    {
      "cell_type": "markdown",
      "source": [
        "Complete the following tasks:\n",
        "1. Create an array with values ranging from 10 to 49. {Hint:np.arrange()}.\n",
        "2. Create a 3X3 matrix with values ranging from 0 to 8.\n",
        "{Hint:look for np.reshape()}\n",
        "3. Create a 3X3 identity matrix.{Hint:np.eye()}\n",
        "4. Create a random array of size 30 and find the mean of the array.\n",
        "{Hint:check for np.random.random() and array.mean() function}\n",
        "5. Create a 10X10 array with random values and find the minimum and maximum values.\n",
        "6. Create a zero array of size 10 and replace 5th element with 1.\n",
        "7. Reverse an array arr = [1,2,0,0,4,0].\n",
        "8. Create a 2d array with 1 on border and 0 inside.\n",
        "9. Create a 8X8 matrix and fill it with a checkerboard pattern.\n"
      ],
      "metadata": {
        "id": "5TcgX723G0Ul"
      }
    },
    {
      "cell_type": "code",
      "source": [
        "# 1. Create an array with values ranging from 10 to 49.\n",
        "ranged_array = np.arange(10, 50)\n",
        "print(f\"1. Array from range 10 to 49:\\n {ranged_array}.\\n\")\n",
        "\n",
        "\n",
        "# 2. Create a 3X3 matrix with values ranging from 0 to 8.\n",
        "matrix3x3 = np.arange(9).reshape(3, 3)\n",
        "print(f\"2. 3X3 matrix with values ranging from 0 to 8:\\n {matrix3x3} \\n\")\n",
        "\n",
        "\n",
        "# 3. Create a 3X3 identity matrix.\n",
        "i_matrix = np.eye(3)\n",
        "print(f\"3. 3X3 identity matrix:\\n {i_matrix} \\n\")\n",
        "\n",
        "\n",
        "# 4. Create a random array of size 30 and find the mean of the array.\n",
        "random_array = np.random.random(30)\n",
        "print(f\"4. Random array of size 30:\\n {random_array} \\n\")\n",
        "\n",
        "\n",
        "# 5. Create a 10X10 array with random values and find the minimum and maximum values.\n",
        "random_matrix = np.random.random((10, 10))\n",
        "min_value = np.min(random_matrix)\n",
        "max_value = np.max(random_matrix)\n",
        "print(f\"5. 10X10 array with random values:\\n {random_matrix} \\n\")\n",
        "print(f\"Minimum value: {min_value} \\n\")\n",
        "print(f\"Maximum value: {max_value} \\n\\n\")\n",
        "\n",
        "\n",
        "# 6. Create a zero array of size 10 and replace 5th element with 1.\n",
        "zero_array = np.zeros(10)\n",
        "print(f\"6. Zero array of size 10:\\n {zero_array} \\n\")\n",
        "zero_array[4] = 1\n",
        "print(f\"After replacing 5th element with 1:\\n {zero_array} \\n\")\n",
        "\n",
        "\n",
        "# 7. Reverse an array arr = [1,2,0,0,4,0].\n",
        "arr = np.array([1, 2, 0, 0, 4, 0])\n",
        "reversed_arr = arr[::-1]\n",
        "print(f\"7.{arr} Reversed array:\\n {reversed_arr} \\n\")\n",
        "\n",
        "\n",
        "# 8. Create a 2d array with 1 on border and 0 inside.\n",
        "border_1 = np.ones((5, 5))\n",
        "border_1[1:-1, 1:-1] = 0\n",
        "print(f\"8. 2D array with 1 on border and 0 inside:\\n {border_1} \\n\")\n",
        "\n",
        "\n",
        "# 9. Create a 8X8 matrix and fill it with a checkerboard pattern.\n",
        "checkboard = np.zeros((8, 8))\n",
        "checkboard[1::2, ::2] = 1\n",
        "checkboard[::2, 1::2] = 1\n",
        "print(f\"9. 8X8 matrix with checkerboard pattern:\\n {checkboard} \\n\")"
      ],
      "metadata": {
        "colab": {
          "base_uri": "https://localhost:8080/"
        },
        "id": "AYeFuEjJB_jO",
        "outputId": "3188f737-c619-4ded-d52b-0cdba650cbc0"
      },
      "execution_count": 22,
      "outputs": [
        {
          "output_type": "stream",
          "name": "stdout",
          "text": [
            "1. Array from range 10 to 49:\n",
            " [10 11 12 13 14 15 16 17 18 19 20 21 22 23 24 25 26 27 28 29 30 31 32 33\n",
            " 34 35 36 37 38 39 40 41 42 43 44 45 46 47 48 49].\n",
            "\n",
            "2. 3X3 matrix with values ranging from 0 to 8:\n",
            " [[0 1 2]\n",
            " [3 4 5]\n",
            " [6 7 8]] \n",
            "\n",
            "3. 3X3 identity matrix:\n",
            " [[1. 0. 0.]\n",
            " [0. 1. 0.]\n",
            " [0. 0. 1.]] \n",
            "\n",
            "4. Random array of size 30:\n",
            " [0.67428093 0.60892649 0.95327948 0.69997093 0.34160506 0.71181084\n",
            " 0.21395584 0.27765017 0.01964841 0.52369151 0.19168924 0.90518261\n",
            " 0.96687    0.64566566 0.30935002 0.88035821 0.16521154 0.74183312\n",
            " 0.9339875  0.59765745 0.62201081 0.2502561  0.97950547 0.91426043\n",
            " 0.51477883 0.45751352 0.66386601 0.91626999 0.94326928 0.14394135] \n",
            "\n",
            "5. 10X10 array with random values:\n",
            " [[9.98699035e-01 2.75176744e-01 8.96692744e-01 1.38683280e-01\n",
            "  7.93646526e-01 4.25901729e-01 7.56923020e-01 5.77249761e-01\n",
            "  5.23856892e-01 4.79048744e-01]\n",
            " [1.43424321e-01 8.87109393e-01 8.83333804e-01 7.92468157e-02\n",
            "  3.67269260e-02 8.43970928e-01 1.13404207e-01 8.06216987e-01\n",
            "  5.42402195e-01 7.44493000e-01]\n",
            " [3.05531010e-01 8.85241639e-01 9.29762043e-02 7.70665663e-01\n",
            "  3.84257384e-01 8.20075363e-01 2.65356885e-01 8.59199311e-01\n",
            "  2.49454888e-01 1.51476841e-01]\n",
            " [4.39632006e-01 4.85066200e-01 4.75852339e-01 4.16974546e-01\n",
            "  3.09725386e-01 8.87059401e-01 2.82535208e-01 2.34472450e-02\n",
            "  5.64624946e-01 1.95614380e-02]\n",
            " [5.99473907e-01 8.48030414e-01 4.12196195e-01 5.85532530e-03\n",
            "  2.85336981e-01 4.86355721e-01 7.74843278e-01 7.98230207e-01\n",
            "  6.18258754e-01 5.01055949e-01]\n",
            " [7.02958852e-02 4.35285226e-01 5.05230641e-02 9.38813930e-02\n",
            "  3.24279110e-01 8.46277932e-01 2.12011978e-04 8.40614117e-01\n",
            "  2.42256499e-01 7.05064326e-02]\n",
            " [1.12932925e-01 7.74798284e-01 8.98310468e-01 6.57210382e-01\n",
            "  8.59546266e-01 9.65349381e-01 4.43506930e-02 7.53880215e-01\n",
            "  4.31386994e-01 4.77695540e-01]\n",
            " [1.83675490e-01 1.92838261e-01 5.09675585e-01 4.95809483e-02\n",
            "  3.66369758e-01 3.56812708e-01 6.96487078e-01 8.64541789e-01\n",
            "  1.59344473e-01 5.43942091e-01]\n",
            " [4.27523487e-02 1.43978548e-01 8.60429536e-01 5.83511036e-01\n",
            "  4.07961982e-01 2.56150732e-01 1.38404739e-01 3.27008541e-01\n",
            "  3.43167743e-01 6.14709132e-01]\n",
            " [1.03043453e-02 2.92696629e-01 4.97581347e-01 1.19152755e-01\n",
            "  4.91242060e-01 5.19242142e-01 3.42688972e-01 6.97484612e-01\n",
            "  3.19234373e-01 9.14451150e-01]] \n",
            "\n",
            "Minimum value: 0.0002120119775945728 \n",
            "\n",
            "Maximum value: 0.9986990347244555 \n",
            "\n",
            "\n",
            "6. Zero array of size 10:\n",
            " [0. 0. 0. 0. 0. 0. 0. 0. 0. 0.] \n",
            "\n",
            "After replacing 5th element with 1:\n",
            " [0. 0. 0. 0. 1. 0. 0. 0. 0. 0.] \n",
            "\n",
            "7.[1 2 0 0 4 0] Reversed array:\n",
            " [0 4 0 0 2 1] \n",
            "\n",
            "8. 2D array with 1 on border and 0 inside:\n",
            " [[1. 1. 1. 1. 1.]\n",
            " [1. 0. 0. 0. 1.]\n",
            " [1. 0. 0. 0. 1.]\n",
            " [1. 0. 0. 0. 1.]\n",
            " [1. 1. 1. 1. 1.]] \n",
            "\n",
            "9. 8X8 matrix with checkerboard pattern:\n",
            " [[0. 1. 0. 1. 0. 1. 0. 1.]\n",
            " [1. 0. 1. 0. 1. 0. 1. 0.]\n",
            " [0. 1. 0. 1. 0. 1. 0. 1.]\n",
            " [1. 0. 1. 0. 1. 0. 1. 0.]\n",
            " [0. 1. 0. 1. 0. 1. 0. 1.]\n",
            " [1. 0. 1. 0. 1. 0. 1. 0.]\n",
            " [0. 1. 0. 1. 0. 1. 0. 1.]\n",
            " [1. 0. 1. 0. 1. 0. 1. 0.]] \n",
            "\n"
          ]
        }
      ]
    },
    {
      "cell_type": "markdown",
      "source": [
        "## Task 3: Array Operations\n",
        "\n"
      ],
      "metadata": {
        "id": "40zeG9cFKaC0"
      }
    },
    {
      "cell_type": "markdown",
      "source": [
        "For the following arrays:\n",
        "x = np.array([[1,2],[3,5]]) and y = np.array([[5,6],[7,8]]);\n",
        "\n",
        "v = np.array([9,10]) and w = np.array([11,12]);\n",
        "\n",
        "Complete all the task using numpy:\n",
        "\n",
        "1. Add the two array.\n",
        "2. Subtract the two array.\n",
        "3. Multiply the array with any integers of your choice.\n",
        "4. Find the square of each element of the array.\n",
        "5. Find the dot product between: v(and)w ; x(and)v ; x(and)y.\n",
        "6. Concatenate x(and)y along row and Concatenate v(and)w along column.\n",
        "{Hint:try np.concatenate() or np.vstack() functions.\n",
        "7. Concatenate x(and)v; if you get an error, observe and explain why did you get the error?"
      ],
      "metadata": {
        "id": "A2e5Ao4HKgSE"
      }
    },
    {
      "cell_type": "code",
      "source": [
        "x = np.array([[1, 2], [3, 5]])\n",
        "y = np.array([[5, 6], [7, 8]])\n",
        "v = np.array([9, 10])\n",
        "w = np.array([11, 12])\n",
        "\n",
        "\n",
        "# 1. Add the two array.\n",
        "add_result = x + y\n",
        "print(f\"1. Addition of x and y:\\n {add_result} \\n\")\n",
        "\n",
        "\n",
        "# 2. Subtract the two array.\n",
        "sub_result = x - y\n",
        "print(f\"2. Subtraction of x and y:\\n {sub_result} \\n\")\n",
        "\n",
        "\n",
        "# 3. Multiply the array with any integers of your choice.\n",
        "prod_result = 3 * x\n",
        "print(f\"3. Multiplying x by 3:\\n {prod_result} \\n\")\n",
        "\n",
        "\n",
        "# 4. Find the square of each element of the array.\n",
        "square_y = np.square(y)\n",
        "print(f\"4. Square of y:\\n {square_y} \\n\")\n",
        "\n",
        "\n",
        "# 5. Finding the dot products\n",
        "dot_xy = np.dot(x,y)\n",
        "dot_xv = np.dot(x, v)\n",
        "dot_vw = np.dot(v, w)\n",
        "print(f\"5. The dot product between v and w is {dot_vw}; x and v is {dot_xv}; and x & y is{dot_xy}\\n\")\n",
        "\n",
        "\n",
        "# 6. Concatenate x(and)y along row and Concatenate v(and)w along column.\n",
        "conc_xy = np.concatenate((x, y), axis = 0)\n",
        "conc_vw = np.column_stack((v, w))\n",
        "print(f\"6. Concatenation of x and y along rows is\\n\\n{conc_xy} \\n\\n and of v and w along column is {conc_vw}\\n\")"
      ],
      "metadata": {
        "colab": {
          "base_uri": "https://localhost:8080/"
        },
        "id": "n1I2lDLUHcaV",
        "outputId": "3e1b441f-9319-45b8-c569-303c671cb93d"
      },
      "execution_count": 23,
      "outputs": [
        {
          "output_type": "stream",
          "name": "stdout",
          "text": [
            "1. Addition of x and y:\n",
            " [[ 6  8]\n",
            " [10 13]] \n",
            "\n",
            "2. Subtraction of x and y:\n",
            " [[-4 -4]\n",
            " [-4 -3]] \n",
            "\n",
            "3. Multiplying x by 3:\n",
            " [[ 3  6]\n",
            " [ 9 15]] \n",
            "\n",
            "4. Square of y:\n",
            " [[25 36]\n",
            " [49 64]] \n",
            "\n",
            "5. The dot product between v and w is 219; x and v is [29 77]; and x & y is[[19 22]\n",
            " [50 58]]\n",
            "\n",
            "6. Concatenation of x and y along rows is\n",
            "\n",
            "[[1 2]\n",
            " [3 5]\n",
            " [5 6]\n",
            " [7 8]] \n",
            "\n",
            " and of v and w along column is [[ 9 11]\n",
            " [10 12]]\n",
            "\n"
          ]
        }
      ]
    },
    {
      "cell_type": "code",
      "source": [
        "# 7. Concatenate x(and)v; if you get an error, observe and explain why did you get the error?\n",
        "conc_xv = np.concatenate((x, v), axis = 0)\n",
        "print(f\"7. Concatenation of x and v: {conc_xv}\")\n",
        "\n",
        "\n",
        "\"\"\"\n",
        "x has shape (2,2) and v has shape (2,). The dimensions do not match along the chosen axis.\n",
        "\"\"\""
      ],
      "metadata": {
        "colab": {
          "base_uri": "https://localhost:8080/",
          "height": 211
        },
        "id": "2zekabq8KuVR",
        "outputId": "28cc969a-d39c-4325-9a26-8c2f6ea6c9d4"
      },
      "execution_count": 24,
      "outputs": [
        {
          "output_type": "error",
          "ename": "ValueError",
          "evalue": "all the input arrays must have same number of dimensions, but the array at index 0 has 2 dimension(s) and the array at index 1 has 1 dimension(s)",
          "traceback": [
            "\u001b[0;31m---------------------------------------------------------------------------\u001b[0m",
            "\u001b[0;31mValueError\u001b[0m                                Traceback (most recent call last)",
            "\u001b[0;32m<ipython-input-24-ffb58c0ce904>\u001b[0m in \u001b[0;36m<cell line: 0>\u001b[0;34m()\u001b[0m\n\u001b[1;32m      1\u001b[0m \u001b[0;31m# 7. Concatenate x(and)v; if you get an error, observe and explain why did you get the error?\u001b[0m\u001b[0;34m\u001b[0m\u001b[0;34m\u001b[0m\u001b[0m\n\u001b[0;32m----> 2\u001b[0;31m \u001b[0mconc_xv\u001b[0m \u001b[0;34m=\u001b[0m \u001b[0mnp\u001b[0m\u001b[0;34m.\u001b[0m\u001b[0mconcatenate\u001b[0m\u001b[0;34m(\u001b[0m\u001b[0;34m(\u001b[0m\u001b[0mx\u001b[0m\u001b[0;34m,\u001b[0m \u001b[0mv\u001b[0m\u001b[0;34m)\u001b[0m\u001b[0;34m,\u001b[0m \u001b[0maxis\u001b[0m \u001b[0;34m=\u001b[0m \u001b[0;36m0\u001b[0m\u001b[0;34m)\u001b[0m\u001b[0;34m\u001b[0m\u001b[0;34m\u001b[0m\u001b[0m\n\u001b[0m\u001b[1;32m      3\u001b[0m \u001b[0mprint\u001b[0m\u001b[0;34m(\u001b[0m\u001b[0;34mf\"7. Concatenation of x and v: {conc_xv}\"\u001b[0m\u001b[0;34m)\u001b[0m\u001b[0;34m\u001b[0m\u001b[0;34m\u001b[0m\u001b[0m\n\u001b[1;32m      4\u001b[0m \u001b[0;34m\u001b[0m\u001b[0m\n\u001b[1;32m      5\u001b[0m \u001b[0;34m\u001b[0m\u001b[0m\n",
            "\u001b[0;31mValueError\u001b[0m: all the input arrays must have same number of dimensions, but the array at index 0 has 2 dimension(s) and the array at index 1 has 1 dimension(s)"
          ]
        }
      ]
    },
    {
      "cell_type": "markdown",
      "source": [
        "## Task 4: Matrix Operations"
      ],
      "metadata": {
        "id": "knJngDylOWh9"
      }
    },
    {
      "cell_type": "markdown",
      "source": [
        "For the following arrays:\n",
        "\n",
        "A = np.array([[3,4],[7,8]]) and B = np.array([[5,3],[2,1]]);\n",
        "\n",
        "Prove following with Numpy:\n",
        "1. Prove A.A−1 = I.\n",
        "2. Prove AB ̸= BA.\n",
        "3. Prove (AB)^T= B^T . A^T\n",
        "\n",
        "• Solve the following system of Linear equation using Inverse Methods.\n",
        "\n",
        "2x − 3y + z = −1\n",
        "\n",
        "x − y + 2z = −3\n",
        "\n",
        "3x + y − z = 9\n",
        "\n",
        "{Hint: First use Numpy array to represent the equation in Matrix form. Then Solve for: AX = B}\n",
        "\n",
        "• Now: solve the above equation using np.linalg.inv function.{Explore more about ”linalg” function of Numpy}\n"
      ],
      "metadata": {
        "id": "yYiCndn4OZmd"
      }
    },
    {
      "cell_type": "code",
      "source": [
        "A = np.array([[3, 4], [7, 8]])\n",
        "B = np.array([[5, 3], [2, 1]])"
      ],
      "metadata": {
        "id": "r5aghgE0N5Dd"
      },
      "execution_count": 25,
      "outputs": []
    },
    {
      "cell_type": "code",
      "source": [
        "# Proving A.A-1 = I\n",
        "\n",
        "A_inverse = np.linalg.inv(A)\n",
        "\n",
        "identity = np.dot(A, A_inverse)\n",
        "\n",
        "print(f\"1. Proving A.A-1 = I for \\n{A} is\\n{identity}\\n\\n\")\n",
        "\n",
        "\n",
        "\n",
        "# Proving AB != BA\n",
        "AB = np.dot(A,B)\n",
        "BA = np.dot(B,A)\n",
        "\n",
        "print(f\"2. Proved that AB != BA since AB = \\n{AB}\\n and BA =\\n{BA}\\n\\n\")\n",
        "\n",
        "\n",
        "# Prove (AB)^T= B^T . A^T\n",
        "AB_t = np.transpose(AB)\n",
        "B_t = np.transpose(B)\n",
        "A_t = np.transpose(A)\n",
        "\n",
        "Bt_dot_At = np.dot(B_t, A_t)\n",
        "\n",
        "print(f\"3. Proved that (AB)^T = B^T . A^T since (AB)^T = \\n{AB_t}\\n and B^T . A^T = \\n{Bt_dot_At}\\n\\n\")"
      ],
      "metadata": {
        "id": "Dgwhi2mYO4So",
        "colab": {
          "base_uri": "https://localhost:8080/"
        },
        "outputId": "6dac2228-bc98-40c8-a5e4-55d4535a71d5"
      },
      "execution_count": 36,
      "outputs": [
        {
          "output_type": "stream",
          "name": "stdout",
          "text": [
            "1. Proving A.A-1 = I for \n",
            "[[3 4]\n",
            " [7 8]] is\n",
            "[[1.00000000e+00 0.00000000e+00]\n",
            " [1.77635684e-15 1.00000000e+00]]\n",
            "\n",
            "\n",
            "2. Proved that AB != BA since AB = \n",
            "[[23 13]\n",
            " [51 29]]\n",
            " and BA =\n",
            "[[36 44]\n",
            " [13 16]]\n",
            "\n",
            "\n",
            "3. Proved that (AB)^T = B^T . A^T since (AB)^T = \n",
            "[[23 51]\n",
            " [13 29]]\n",
            " and B^T . A^T = \n",
            "[[23 51]\n",
            " [13 29]]\n",
            "\n",
            "\n"
          ]
        }
      ]
    },
    {
      "cell_type": "code",
      "source": [
        "# Solving for linear equation using matrix method in numpy for\n",
        "# 2x − 3y + z = −1\n",
        "\n",
        "# x − y + 2z = −3\n",
        "\n",
        "# 3x + y − z = 9\n",
        "\n",
        "le_A = np.array([[2, -3, 1], [1, -1, 2], [3, 1, -1]])\n",
        "le_B = np.array([-1, -3, 9])\n",
        "\n",
        "# If A-1 exists then, X = A-1 . B\n",
        "\n",
        "le_A_inverse = np.linalg.inv(le_A)\n",
        "le_X = np.dot(le_A_inverse, le_B)\n",
        "\n",
        "print(f\"The [x, y, z] of the system is\\n{le_X}\\n\")"
      ],
      "metadata": {
        "id": "UPw81RJGPC96",
        "colab": {
          "base_uri": "https://localhost:8080/"
        },
        "outputId": "cd5cbf81-dc88-45eb-9e26-3e697d51040f"
      },
      "execution_count": 39,
      "outputs": [
        {
          "output_type": "stream",
          "name": "stdout",
          "text": [
            "The [x, y, z] of the system is\n",
            "[ 2.  1. -2.]\n",
            "\n"
          ]
        }
      ]
    },
    {
      "cell_type": "markdown",
      "source": [
        "## Task 5: Experiment: How Fast is Numpy?\n"
      ],
      "metadata": {
        "id": "W-_vagy6PFGD"
      }
    },
    {
      "cell_type": "markdown",
      "source": [
        "Follow the instructions:\n",
        "\n",
        "1. Element-wise Addition:\n",
        "\n",
        "• Using Python Lists, perform element-wise addition of two lists of size 1, 000, 000. Measure\n",
        "and Print the time taken for this operation.\n",
        "\n",
        "• Using Numpy Arrays, Repeat the calculation and measure and print the time taken for\n",
        "this operation.\n",
        "\n",
        "\n"
      ],
      "metadata": {
        "id": "GiNkc4l-PI_L"
      }
    },
    {
      "cell_type": "code",
      "source": [
        "size = 1000000\n",
        "list1 = list(range(size))\n",
        "list2 = list(range(size))\n",
        "\n",
        "# Measuring time for element addition\n",
        "start_time = time.time()\n",
        "list_result = []\n",
        "for i in range(size):\n",
        "  list_result.append(list1[i] + list2[i])\n",
        "end_time = time.time()\n",
        "\n",
        "\n",
        "print(f\"Time taken for python list addition is {end_time - start_time} seconds.\\n\")\n",
        "\n",
        "\n",
        "# Now measuring time for numpy addition\n",
        "array1 = np.arange(size)\n",
        "array2 = np.arange(size)\n",
        "\n",
        "start_time = time.time()\n",
        "array_result = array1 + array2\n",
        "end_time = time.time()\n",
        "\n",
        "print(f\"Time taken for numpy array addition is {end_time - start_time} seconds.\\n\")"
      ],
      "metadata": {
        "id": "GYtufy3nPIlf",
        "colab": {
          "base_uri": "https://localhost:8080/"
        },
        "outputId": "66d6bac3-78e0-491e-ddb5-4a531df8b768"
      },
      "execution_count": 41,
      "outputs": [
        {
          "output_type": "stream",
          "name": "stdout",
          "text": [
            "Time taken for python list addition is 0.25083184242248535 seconds.\n",
            "\n",
            "Time taken for numpy array addition is 0.006727695465087891 seconds.\n",
            "\n"
          ]
        }
      ]
    },
    {
      "cell_type": "markdown",
      "source": [
        "2. Element-wise Multiplication\n",
        "\n",
        "• Using Python Lists, perform element-wise multiplication of two lists of size 1, 000, 000.\n",
        "Measure and Print the time taken for this operation.\n",
        "\n",
        "• Using Numpy Arrays, Repeat the calculation and measure and print the time taken for\n",
        "this operation"
      ],
      "metadata": {
        "id": "IW_tvmUMYH0R"
      }
    },
    {
      "cell_type": "code",
      "source": [
        "# Measuring time for python list multiplication\n",
        "start_time = time.time()\n",
        "list_result = []\n",
        "for i in range(size):\n",
        "  list_result.append(list1[i] * list2[i])\n",
        "end_time = time.time()\n",
        "\n",
        "\n",
        "print(f\"Time taken for python list multiplication is {end_time - start_time} seconds.\\n\")\n",
        "\n",
        "# Measuring time for numpy array multiplication\n",
        "start_time = time.time()\n",
        "array_result = array1 * array2\n",
        "end_time = time.time()\n",
        "\n",
        "print(f\"Time taken for numpy array multiplication is {end_time - start_time} seconds.\\n\")"
      ],
      "metadata": {
        "colab": {
          "base_uri": "https://localhost:8080/"
        },
        "id": "AsuMjL02Xnmo",
        "outputId": "fed40e86-1a67-44fe-efd5-a38a8d366a70"
      },
      "execution_count": 43,
      "outputs": [
        {
          "output_type": "stream",
          "name": "stdout",
          "text": [
            "Time taken for python list multiplication is 0.359485387802124 seconds.\n",
            "\n",
            "Time taken for numpy array multiplication is 0.007478952407836914 seconds.\n",
            "\n"
          ]
        }
      ]
    },
    {
      "cell_type": "markdown",
      "source": [
        "3. Dot Product\n",
        "\n",
        "• Using Python Lists, compute the dot product of two lists of size 1, 000, 000. Measure and\n",
        "Print the time taken for this operation.\n",
        "\n",
        "• Using Numpy Arrays, Repeat the calculation and measure and print the time taken for\n",
        "this operation."
      ],
      "metadata": {
        "id": "UHsvNoh2Y_W_"
      }
    },
    {
      "cell_type": "code",
      "source": [
        "# Measuring time for dot product in python list\n",
        "start_time = time.time()\n",
        "dot_products = []\n",
        "for i in range(size):\n",
        "  dot_products.append(list1[i] * list2[i])\n",
        "dot_product_result = sum(dot_products)\n",
        "end_time = time.time()\n",
        "\n",
        "print(f\"Time taken for python list dot product is {end_time - start_time} seconds.\\n\")\n",
        "\n",
        "\n",
        "# Measuring time for dot products using numpy\n",
        "start_time = time.time()\n",
        "dot_product = np.dot(array1, array2)\n",
        "end_time = time.time()\n",
        "\n",
        "print(f\"Time taken for numpy array dot product is {end_time - start_time} seconds.\\n\")"
      ],
      "metadata": {
        "colab": {
          "base_uri": "https://localhost:8080/"
        },
        "id": "mitYtTfwYnxJ",
        "outputId": "b615acfc-6792-45f3-af74-8d25b15ff3c5"
      },
      "execution_count": 46,
      "outputs": [
        {
          "output_type": "stream",
          "name": "stdout",
          "text": [
            "Time taken for python list dot product is 0.37201476097106934 seconds.\n",
            "\n",
            "Time taken for numpy array dot product is 0.002031564712524414 seconds.\n",
            "\n"
          ]
        }
      ]
    },
    {
      "cell_type": "markdown",
      "source": [
        "4. Matrix Multiplication\n",
        "\n",
        "• Using Python lists, perform matrix multiplication of two matrices of size 1000x1000. Measure and print the time taken for this operation.\n",
        "\n",
        "• Using NumPy arrays, perform matrix multiplication of two matrices of size 1000x1000.\n",
        "Measure and print the time taken for this operation."
      ],
      "metadata": {
        "id": "jDvcTk3-aIBN"
      }
    },
    {
      "cell_type": "code",
      "source": [
        "size = 1000\n",
        "# Measuring time taken for matrix multiplication using python list\n",
        "mat_1 = []\n",
        "mat_2 = []\n",
        "\n",
        "for i in range(size):\n",
        "  row = []\n",
        "  for j in range(size):\n",
        "    row.append(i*size +j)\n",
        "  mat_1.append(row)\n",
        "\n",
        "for i in range(size):\n",
        "  row = []\n",
        "  for j in range(size):\n",
        "    row.append(i*size+j)\n",
        "  mat_2.append(row)\n",
        "\n",
        "start_time = time.time()\n",
        "result_matrix = []\n",
        "for i in range(size):\n",
        "  for j in range(size):\n",
        "    sum = 0\n",
        "    for k in range(0, size):\n",
        "      sum += mat_1[i][k] * mat_2[k][j]\n",
        "    result_matrix.append(sum)\n",
        "end_time = time.time()\n",
        "\n",
        "print(f\"Time taken for python list matrix multiplication is {end_time - start_time} seconds.\\n\")\n",
        "\n",
        "\n",
        "\n",
        "\n",
        "# Measuring time taken for matrix multiplication using numpy\n",
        "mat_1 = np.arange(size * size).reshape(size, size)\n",
        "mat_2 = np.arange(size * size).reshape(size, size)\n",
        "\n",
        "start_time = time.time()\n",
        "result_matrix = np.dot(mat_1, mat_2)\n",
        "end_time = time.time()\n",
        "\n",
        "print(f\"Time taken for numpy matrix multiplication is {end_time - start_time} seconds.\\n\")\n"
      ],
      "metadata": {
        "colab": {
          "base_uri": "https://localhost:8080/"
        },
        "id": "Dg8IMNSZZ2IV",
        "outputId": "86946cb9-4f3b-4fb6-82be-c5d733a8de77"
      },
      "execution_count": 28,
      "outputs": [
        {
          "output_type": "stream",
          "name": "stdout",
          "text": [
            "Time taken for python list matrix multiplication is 398.0996997356415 seconds.\n",
            "\n",
            "Time taken for numpy matrix multiplication is 2.2203752994537354 seconds.\n",
            "\n"
          ]
        }
      ]
    },
    {
      "cell_type": "markdown",
      "source": [
        "# END OF WORKSHEET 0 OF AI & ML - 6CS012\n",
        "\n",
        "***- ASHIM NEPAL | L6CG9***"
      ],
      "metadata": {
        "id": "VxG1EjnKiHxZ"
      }
    }
  ]
}